{
 "cells": [
  {
   "cell_type": "markdown",
   "metadata": {},
   "source": [
    "Exemple extrait de [Python Data Science Handbook](https://github.com/jakevdp/PythonDataScienceHandbook)"
   ]
  },
  {
   "cell_type": "markdown",
   "metadata": {
    "tags": []
   },
   "source": [
    "# Analyse en composantes principales"
   ]
  },
  {
   "cell_type": "markdown",
   "metadata": {},
   "source": [
    "L'ACP est fondamentalement un algorithme de réduction de la dimensionnalité, mais il peut également être utile comme outil de visualisation, de filtrage du bruit, d'extraction de caractéristiques et bien plus encore."
   ]
  },
  {
   "cell_type": "code",
   "execution_count": null,
   "metadata": {},
   "outputs": [],
   "source": [
    "import numpy as np\n",
    "import matplotlib.pyplot as plt\n",
    "import seaborn as sns; sns.set()\n",
    "import pandas as pd"
   ]
  },
  {
   "cell_type": "markdown",
   "metadata": {},
   "source": [
    "## Retour sur les iris\n",
    "\n",
    "L'analyse en composantes principales est une méthode non supervisée, rapide et flexible de réduction de la dimensionnalité des données.\n",
    "\n",
    "Le jeu de données iris comporte 4 dimensions et lors du dernier TP nous avons utilisé alternativement deux de ces dimensions pour visualiser les données. \n",
    "\n",
    "Maintenant nous allons utiliser une ACP pour déterminer les 2 premières composantes principales de ce jeu de données et ainsi le visualiser. Commençons par charger les données dans une variable *iris*."
   ]
  },
  {
   "cell_type": "code",
   "execution_count": null,
   "metadata": {},
   "outputs": [],
   "source": [
    "# chargez le jeu de données iris\n",
    "\n",
    "\n",
    "# Stocker les données en tant que DataFrame Pandas en définissant les noms de colonnes\n",
    "\n",
    "\n",
    "# affichez le résutat\n",
    "print(x)"
   ]
  },
  {
   "cell_type": "markdown",
   "metadata": {},
   "source": [
    "Refaites un pairplot en affichant cette fois-ci l'espèce de chaque données d'entrée.\n"
   ]
  },
  {
   "cell_type": "code",
   "execution_count": null,
   "metadata": {},
   "outputs": [],
   "source": []
  },
  {
   "cell_type": "markdown",
   "metadata": {},
   "source": [
    "Peut-on utiliser la variable `species` dans l'ACP ? Pourquoi ?"
   ]
  },
  {
   "cell_type": "code",
   "execution_count": null,
   "metadata": {},
   "outputs": [],
   "source": [
    "X_iris = pd.DataFrame(iris.data)"
   ]
  },
  {
   "cell_type": "markdown",
   "metadata": {},
   "source": [
    "Utilisez une *[ACP](https://scikit-learn.org/stable/modules/generated/sklearn.decomposition.PCA.html)* et extrayez les coordonnées projetées sur deux premières composantes principales du jeu de données iris. Affichez les individus et colorez chaque point en fonction de son espèce."
   ]
  },
  {
   "cell_type": "code",
   "execution_count": null,
   "metadata": {},
   "outputs": [],
   "source": [
    "    "
   ]
  },
  {
   "cell_type": "code",
   "execution_count": null,
   "metadata": {},
   "outputs": [],
   "source": []
  },
  {
   "cell_type": "markdown",
   "metadata": {},
   "source": [
    "Nous voyons que dans la représentation bidimensionnelle sur les deux premières composantes principales, les espèces sont assez bien séparées, même si l'algorithme PCA n'avait aucune connaissance des labels des espèces. Cela nous indique qu'une classification relativement simple sera probablement efficace sur cet ensemble de données, comme nous l'avons vu précédemment."
   ]
  },
  {
   "cell_type": "markdown",
   "metadata": {},
   "source": [
    "## ACP sur les données de la NBA"
   ]
  },
  {
   "cell_type": "code",
   "execution_count": null,
   "metadata": {},
   "outputs": [],
   "source": [
    "nba = pd.read_csv('data/nba.csv')\n",
    "nba"
   ]
  },
  {
   "cell_type": "markdown",
   "metadata": {},
   "source": [
    "Représentez les distributions de quelques variables de votre choix. Représentez quelques croisements de variables et représentez une matrice de graphiques."
   ]
  },
  {
   "cell_type": "code",
   "execution_count": null,
   "metadata": {},
   "outputs": [],
   "source": []
  },
  {
   "cell_type": "markdown",
   "metadata": {},
   "source": [
    "Calculs et représentez la matrice de corrélation des variables numériques."
   ]
  },
  {
   "cell_type": "code",
   "execution_count": null,
   "metadata": {},
   "outputs": [],
   "source": []
  },
  {
   "cell_type": "markdown",
   "metadata": {},
   "source": [
    "Quelles variables seront ici nécessairement représentées comme des variables suplémentaires pour l'ACP ? Créez une matrice numpy avec les données que nous allons utiliser pour l'ACP, puis centrez et réduisez les données en utilisant *[StandardScaler](https://scikit-learn.org/stable/modules/generated/sklearn.preprocessing.StandardScaler.html)*. N'oubliez pas de n'utiliser que les données numériques."
   ]
  },
  {
   "cell_type": "code",
   "execution_count": null,
   "metadata": {},
   "outputs": [],
   "source": []
  },
  {
   "cell_type": "markdown",
   "metadata": {},
   "source": [
    "Affichez et commentez la diminution de la variance expliquée par chaque composante. Superposez la variance expliquée cumulée."
   ]
  },
  {
   "cell_type": "code",
   "execution_count": null,
   "metadata": {},
   "outputs": [],
   "source": []
  },
  {
   "cell_type": "markdown",
   "metadata": {},
   "source": [
    "Quelle quantité de variance est expliquée par les 2 premières variables ? Combien faudrait-il choisir de variables pour garder 90% de variance expliquée ?"
   ]
  },
  {
   "cell_type": "code",
   "execution_count": null,
   "metadata": {},
   "outputs": [],
   "source": []
  },
  {
   "cell_type": "code",
   "execution_count": null,
   "metadata": {},
   "outputs": [],
   "source": []
  },
  {
   "cell_type": "markdown",
   "metadata": {},
   "source": [
    "Affichez les contributions des variables aux axes principaux (1 et 2) avec un bar plot en utilisant l'attribut `components_` de `PCA`. Interprétez la signication des deux axes."
   ]
  },
  {
   "cell_type": "code",
   "execution_count": null,
   "metadata": {},
   "outputs": [],
   "source": []
  },
  {
   "cell_type": "markdown",
   "metadata": {},
   "source": [
    "> Remarque : vous devriez vous rendre compte que l'axe 1 correspond à la performance en jeu du joueur, tandis que l'axe 2 correspond (en partie) à ses caractéristiques physiques"
   ]
  },
  {
   "cell_type": "markdown",
   "metadata": {},
   "source": [
    "Pour la suite nous allons travailler dans le premier plan factoriel. Calculez l'ACP avec seulement 2 composantes."
   ]
  },
  {
   "cell_type": "code",
   "execution_count": null,
   "metadata": {},
   "outputs": [],
   "source": []
  },
  {
   "cell_type": "markdown",
   "metadata": {},
   "source": [
    "Représentez le nuage des individus projeté dans le premier plan factoriel, en coloriant selon l'équipe d'appartenance. Affichez les ellipses de concentration avec la fonction `plot_ellipses`, puis commentez."
   ]
  },
  {
   "cell_type": "code",
   "execution_count": null,
   "metadata": {},
   "outputs": [],
   "source": [
    "from matplotlib.patches import Ellipse\n",
    "import matplotlib.transforms as transforms\n",
    "\n",
    "def confidence_ellipse(x, y, ax, color, n_std=1.96, **kwargs):\n",
    "    \"\"\"\n",
    "    From https://matplotlib.org/stable/gallery/statistics/confidence_ellipse.html\n",
    "    Create a plot of the covariance confidence ellipse of *x* and *y*.\n",
    "\n",
    "    Parameters\n",
    "    ----------\n",
    "    x, y : array-like, shape (n, )\n",
    "        Input data.\n",
    "\n",
    "    ax : matplotlib.axes.Axes\n",
    "        The axes object to draw the ellipse into.\n",
    "\n",
    "    n_std : float\n",
    "        The number of standard deviations to determine the ellipse's radiuses.\n",
    "        For a normal distribution, 1 std=68% of values, 1.96 std=95% of values, 2.58 std = 99% of values\n",
    "\n",
    "    **kwargs\n",
    "        Forwarded to `~matplotlib.patches.Ellipse`\n",
    "\n",
    "    Returns\n",
    "    -------\n",
    "    matplotlib.patches.Ellipse\n",
    "    \"\"\"\n",
    "    if x.size != y.size:\n",
    "        raise ValueError(\"x and y must be the same size\")\n",
    "\n",
    "    cov = np.cov(x, y)\n",
    "    pearson = cov[0, 1]/np.sqrt(cov[0, 0] * cov[1, 1])\n",
    "    # Using a special case to obtain the eigenvalues of this\n",
    "    # two-dimensional dataset.\n",
    "    ell_radius_x = np.sqrt(1 + pearson)\n",
    "    ell_radius_y = np.sqrt(1 - pearson)\n",
    "    ellipse = Ellipse((0, 0), width=ell_radius_x * 2, height=ell_radius_y * 2,\n",
    "                      facecolor=color, edgecolor=color, alpha=0.3, **kwargs)\n",
    "\n",
    "    # Calculating the standard deviation of x from\n",
    "    # the squareroot of the variance and multiplying\n",
    "    # with the given number of standard deviations.\n",
    "    scale_x = np.sqrt(cov[0, 0]) * n_std\n",
    "    mean_x = np.mean(x)\n",
    "\n",
    "    # calculating the standard deviation of y ...\n",
    "    scale_y = np.sqrt(cov[1, 1]) * n_std\n",
    "    mean_y = np.mean(y)\n",
    "\n",
    "    transf = transforms.Affine2D() \\\n",
    "        .rotate_deg(45) \\\n",
    "        .scale(scale_x, scale_y) \\\n",
    "        .translate(mean_x, mean_y)\n",
    "\n",
    "    ellipse.set_transform(transf + ax.transData)\n",
    "    return ax.add_patch(ellipse)\n",
    "\n",
    "\n",
    "def get_colors(labels, cmap_name):\n",
    "    \"\"\"Return a mapping {label: color}, that can be used for the arguments\n",
    "        - `palette` in a seaborn function\n",
    "        - `colors` in the function `plot_ellipses`\n",
    "        \n",
    "    Args:\n",
    "        - labels: a list-like containing the different labels that need to be attributed a color (not necessarily unique)\n",
    "        - cmap_name: the name of a matplotlib colormap, e.g. 'Spectral'. See https://matplotlib.org/stable/tutorials/colors/colormaps.html\n",
    "    \n",
    "    Example:\n",
    "        sns.scatterplot(x=..., y=..., hue=labels, palette=get_colors(labels, 'Spectral'))\n",
    "    \"\"\"\n",
    "    labels_u = np.unique(labels)\n",
    "    cmap = plt.cm.get_cmap(cmap_name, len(labels_u))\n",
    "    return {l: cmap(i) for i, l in enumerate(labels_u)}\n",
    "\n",
    "\n",
    "def plot_ellipses(x, y, labels, ax, colors, n_std=1.96):\n",
    "    \"\"\"Plot confidence ellipses, one for each label\"\"\"\n",
    "    labels_u = np.unique(labels)\n",
    "    for label in labels_u:\n",
    "        xl = x[labels==label]\n",
    "        yl = y[labels==label]\n",
    "        confidence_ellipse(xl, yl, ax, colors[label], n_std=n_std)"
   ]
  },
  {
   "cell_type": "code",
   "execution_count": null,
   "metadata": {},
   "outputs": [],
   "source": []
  },
  {
   "cell_type": "markdown",
   "metadata": {},
   "source": [
    "> Remarque : La variable Team n'est pas très discriminante"
   ]
  },
  {
   "cell_type": "markdown",
   "metadata": {},
   "source": [
    "Même chose avec la position du joueur sur le terrain."
   ]
  },
  {
   "cell_type": "code",
   "execution_count": null,
   "metadata": {},
   "outputs": [],
   "source": []
  },
  {
   "cell_type": "markdown",
   "metadata": {},
   "source": [
    "> Remarque : L'axe 1 ne discrimine pas vraiment, mais l'axe 2 oui. C'est logique car celui-ci représente la morphologie, qui a souvent un impact sur la position sur le terrain."
   ]
  },
  {
   "cell_type": "markdown",
   "metadata": {},
   "source": [
    "Créez un nouveau joueur de NBA en lui donnant les caractéristiques de votre choix. Projetez le dans le premier axe factoriel et représentez le parmi les autres individus"
   ]
  },
  {
   "cell_type": "code",
   "execution_count": null,
   "metadata": {},
   "outputs": [],
   "source": []
  },
  {
   "cell_type": "markdown",
   "metadata": {},
   "source": [
    "## Implémentation de l'ACP"
   ]
  },
  {
   "cell_type": "markdown",
   "metadata": {},
   "source": [
    "Proposez une implémentation de l'ACP en utilisation la fonction [svd](https://docs.scipy.org/doc/scipy/reference/generated/scipy.linalg.svd.html) de `scipy.linalg`. Votre fonction renverra au minimum la variance expliquée par chaque axe factoriel ainsi que les coordonnées des individus et des variables sur les axes factoriels.\n",
    "\n"
   ]
  },
  {
   "cell_type": "code",
   "execution_count": null,
   "metadata": {},
   "outputs": [],
   "source": []
  },
  {
   "cell_type": "markdown",
   "metadata": {},
   "source": [
    "Appliquez votre fonction au jeu de données de la NBA, affichez les individus dans le premier plan factoriel et comparez vos résultats à ceux obtenus avec la fonction `PCA` de scikit-learn.\n",
    "\n",
    "Affichez ensuite les variables dans le premier plan factoriel avec des flèches, comme dans l'exemple ci-dessous ([source](https://cran.r-project.org/web/packages/factoextra/readme/README.html)). Vous pourrez utiliser la fonction [annotate](https://matplotlib.org/stable/api/_as_gen/matplotlib.pyplot.annotate.html) de matplotlib pour tracer les flèches.\n",
    "\n",
    "![](https://cran.r-project.org/web/packages/factoextra/readme/tools/README-pca-variables-1.png)"
   ]
  },
  {
   "cell_type": "code",
   "execution_count": null,
   "metadata": {},
   "outputs": [],
   "source": []
  },
  {
   "cell_type": "code",
   "execution_count": null,
   "metadata": {},
   "outputs": [],
   "source": [
    "# Exemple d'utilisation de la fonction `annotate`\n",
    "fig, ax = plt.subplots()\n",
    "ax.annotate('test', (0, 0), (1, 1), arrowprops=dict(arrowstyle='<-', color='black'))\n",
    "plt.show()"
   ]
  },
  {
   "cell_type": "code",
   "execution_count": null,
   "metadata": {},
   "outputs": [],
   "source": [
    "# Code à compléter pour afficher le cercle des corrélations\n",
    "\n",
    "# Création d'une figure vide (avec des axes entre -1 et 1 + le titre)\n",
    "fig, axes = plt.subplots(figsize = (6,6))\n",
    "fig.suptitle(\"Cercle des corrélations\")\n",
    "axes.set_xlim(-1, 1)\n",
    "axes.set_ylim(-1, 1)\n",
    "# Ajout des axes\n",
    "axes.axvline(x = 0, color = 'lightgray', linestyle = '--', linewidth = 1)\n",
    "axes.axhline(y = 0, color = 'lightgray', linestyle = '--', linewidth = 1)\n",
    "# ici il vous faut compléter le code pour obtenir le cercle des corrélations\n",
    "\n",
    "plt.gca().add_artist(plt.Circle((0,0),1,color='blue',fill=False))\n",
    "\n",
    "plt.show()"
   ]
  },
  {
   "cell_type": "markdown",
   "metadata": {},
   "source": [
    "## Utilisation de l'ACP pour visualiser un clustering"
   ]
  },
  {
   "cell_type": "markdown",
   "metadata": {},
   "source": [
    "Retour sur le clustering vu au TP précédent. Chargez le jeu de données `zoo`, effectuez une ACP et affichez les individus dans le premier plan factoriel. Colorez les individus en fonction de leur espèce et affichez les ellipses de concentration. Quelle est la quantité de variance expliquée par ces deux premeirs axes ?"
   ]
  },
  {
   "cell_type": "code",
   "execution_count": null,
   "metadata": {},
   "outputs": [],
   "source": [
    "zoo = pd.read_csv('../tp2/data/zoo.csv', skiprows=[1,2])\n",
    "zoo"
   ]
  },
  {
   "cell_type": "code",
   "execution_count": null,
   "metadata": {},
   "outputs": [],
   "source": []
  },
  {
   "cell_type": "markdown",
   "metadata": {},
   "source": [
    "Effectuez un clustering kmeans sur ce même jeu de données avec le nombre de clusters de votre choix, puis affichez les individus sur le premier plan factoriel en colorant en fonction du cluster auquel ils appartiennent."
   ]
  },
  {
   "cell_type": "code",
   "execution_count": null,
   "metadata": {},
   "outputs": [],
   "source": []
  },
  {
   "cell_type": "markdown",
   "metadata": {
    "tags": []
   },
   "source": [
    "## Utilisation de l'ACP pour la visualisation de données"
   ]
  },
  {
   "cell_type": "markdown",
   "metadata": {},
   "source": [
    "L'utilité de la réduction de dimension n'est peut-être pas tout à fait apparente en deux dimensions seulement, mais elle devient beaucoup plus claire lorsqu'on examine des données en grande dimension.\n",
    "\n",
    "Pour s'en convaincre, examinons rapidement l'application de l'ACP à des images de chiffres manuscrits."
   ]
  },
  {
   "cell_type": "markdown",
   "metadata": {},
   "source": [
    "### Hand-written digits"
   ]
  },
  {
   "cell_type": "markdown",
   "metadata": {},
   "source": [
    "Chargement des données [*load_digit*](http://scikit-learn.org/stable/modules/generated/sklearn.datasets.load_digits.html) :"
   ]
  },
  {
   "cell_type": "code",
   "execution_count": null,
   "metadata": {},
   "outputs": [],
   "source": [
    "from sklearn.datasets import load_digits\n",
    "digits = load_digits()\n",
    "digits.data.shape"
   ]
  },
  {
   "cell_type": "markdown",
   "metadata": {},
   "source": [
    "Les données sont des images en niveaux de gris de taille 8x8 pixels (donc 64 dimensions)\n",
    "Pour avoir une idée des relations entre ces points, nous pouvons utiliser l'ACP pour les projeter dans un nombre de dimensions plus facile à gérer, par exemple deux :"
   ]
  },
  {
   "cell_type": "code",
   "execution_count": null,
   "metadata": {
    "tags": []
   },
   "outputs": [],
   "source": []
  },
  {
   "cell_type": "markdown",
   "metadata": {},
   "source": [
    "Quelle est la variance expliquée par les deux premières composantes ?"
   ]
  },
  {
   "cell_type": "code",
   "execution_count": null,
   "metadata": {},
   "outputs": [],
   "source": []
  },
  {
   "cell_type": "markdown",
   "metadata": {},
   "source": [
    "Affichez les individus dans le premier plan factoriel, et affichez le chiffre représenté par chaque image (via `digits.target`)"
   ]
  },
  {
   "cell_type": "code",
   "execution_count": null,
   "metadata": {},
   "outputs": [],
   "source": []
  },
  {
   "cell_type": "markdown",
   "metadata": {},
   "source": [
    "Attention, la variance expliquée par ces deux variables n'est pas énorme, il ne faut pas croire qu'on visualise l'entiereté du jeu de données en 2D."
   ]
  },
  {
   "cell_type": "markdown",
   "metadata": {},
   "source": [
    "### Choix du nombre de composantes\n",
    "\n",
    "Une partie essentielle de l'utilisation de l'ACP en pratique est la capacité à estimer le nombre de composantes nécessaires pour bien décrire les données.\n",
    "Cela peut être déterminé en examinant le cumul de variance expliquée en fonction du nombre de composantes. Affichez ce cumul pour le jeu de données digits."
   ]
  },
  {
   "cell_type": "code",
   "execution_count": null,
   "metadata": {},
   "outputs": [],
   "source": []
  },
  {
   "cell_type": "markdown",
   "metadata": {},
   "source": [
    "Quel pourcentage de variance est expliqué par les 10 premières composantes ? Combien faudrait-il de composantes pour expliquer 99% de la variance ?"
   ]
  },
  {
   "cell_type": "code",
   "execution_count": null,
   "metadata": {},
   "outputs": [],
   "source": []
  },
  {
   "cell_type": "markdown",
   "metadata": {},
   "source": [
    "## Utilisation de l'ACP pour filtrer du bruit\n",
    "\n",
    "L'ACP peut également être utilisée comme une approche de filtrage de données bruitées.\n",
    "L'idée est la suivante : toutes les composantes dont la variance est beaucoup plus grande que l'effet du bruit devraient être relativement peu affectées par le bruit. Ainsi, si on reconstruit les données en utilisant uniquement le plus grand sous-ensemble de composantes principales, on devrait réussir à garder le signal et éliminer le bruit.\n",
    "\n",
    "Voyons comment cela se présente avec les données précédentes.\n",
    "Tout d'abord, affichons quelques exemples de données **non** bruitées :"
   ]
  },
  {
   "cell_type": "code",
   "execution_count": null,
   "metadata": {},
   "outputs": [],
   "source": [
    "def plot_digits(data):\n",
    "    fig, axes = plt.subplots(4, 10, figsize=(10, 4),\n",
    "                             subplot_kw={'xticks':[], 'yticks':[]},\n",
    "                             gridspec_kw=dict(hspace=0.1, wspace=0.1))\n",
    "    for i, ax in enumerate(axes.flat):\n",
    "        ax.imshow(data[i].reshape(8, 8),\n",
    "                  cmap='binary', interpolation='nearest',\n",
    "                  clim=(0, 16))\n",
    "plot_digits(digits.data)"
   ]
  },
  {
   "cell_type": "markdown",
   "metadata": {},
   "source": [
    "Maintenant, ajoutez du bruit à ces données (avec une loi normale centrée et d'écart type 4). Affichez les données bruitées."
   ]
  },
  {
   "cell_type": "code",
   "execution_count": null,
   "metadata": {},
   "outputs": [],
   "source": []
  },
  {
   "cell_type": "markdown",
   "metadata": {},
   "source": [
    "Calculez une ACP en choisissant le nombre de composantes tel qu'environ 50% de la variance soit expliquée :"
   ]
  },
  {
   "cell_type": "code",
   "execution_count": null,
   "metadata": {},
   "outputs": [],
   "source": []
  },
  {
   "cell_type": "markdown",
   "metadata": {},
   "source": [
    "Utilisez l'ACP pour reconstruire les données non bruitées en utilisant une réduction de dimension via [*transform*](https://scikit-learn.org/stable/modules/generated/sklearn.decomposition.PCA.html#sklearn.decomposition.PCA.transform) et une transformation inverse via [*inverse_transform*](https://scikit-learn.org/stable/modules/generated/sklearn.decomposition.PCA.html#sklearn.decomposition.PCA.inverse_transform) . Affichez le résultat et commentez."
   ]
  },
  {
   "cell_type": "code",
   "execution_count": null,
   "metadata": {},
   "outputs": [],
   "source": []
  },
  {
   "cell_type": "markdown",
   "metadata": {},
   "source": [
    "Cette propriété de préservation du signal et de filtrage du bruit fait de l'ACP une méthode de sélection des caractéristiques très utile. Par exemple, plutôt que d'entrainer un classifieur sur des données à très haute dimension, nous pouvons l'entrainer sur une représentation avec moins de dimensions, qui servira automatiquement à filtrer le bruit aléatoire des entrées."
   ]
  },
  {
   "cell_type": "markdown",
   "metadata": {},
   "source": [
    "## Exemple: Eigenfaces\n",
    "\n",
    "On peut aussi utiliser l'ACP pour réduire le nombre de dimensions d'une image. Chaque image est décrite par un vecteur de faible dimension qui peut être utilisé pour faire des recherches dans une base de données par exemple.\n",
    "\n",
    "Nous allons utiliser le jeu de données \"Labeled Faces in the Wild\" :"
   ]
  },
  {
   "cell_type": "code",
   "execution_count": null,
   "metadata": {},
   "outputs": [],
   "source": [
    "from sklearn.datasets import fetch_lfw_people\n",
    "faces = fetch_lfw_people(min_faces_per_person=60)\n",
    "print(faces.target_names)\n",
    "print(faces.images.shape)"
   ]
  },
  {
   "cell_type": "markdown",
   "metadata": {},
   "source": [
    "Quelle est la dimension du jeu de données (nombre d'individues et de features) ?"
   ]
  },
  {
   "cell_type": "code",
   "execution_count": null,
   "metadata": {},
   "outputs": [],
   "source": []
  },
  {
   "cell_type": "markdown",
   "metadata": {},
   "source": [
    "Affichez quelques images du jeu de données via la fonction [imshow](https://matplotlib.org/stable/api/_as_gen/matplotlib.pyplot.imshow.html) de matplotlib, avec par exemple la colormap `bone` ou `binary_r` :"
   ]
  },
  {
   "cell_type": "code",
   "execution_count": null,
   "metadata": {},
   "outputs": [],
   "source": []
  },
  {
   "cell_type": "markdown",
   "metadata": {},
   "source": [
    "Utilisez l'ACP pour réduire le nomnbre de features à 150. "
   ]
  },
  {
   "cell_type": "code",
   "execution_count": null,
   "metadata": {},
   "outputs": [],
   "source": []
  },
  {
   "cell_type": "markdown",
   "metadata": {},
   "source": [
    "Quel est le pourcentage de variance expliqué par ces 150 composantes ?"
   ]
  },
  {
   "cell_type": "code",
   "execution_count": null,
   "metadata": {},
   "outputs": [],
   "source": []
  },
  {
   "cell_type": "markdown",
   "metadata": {},
   "source": [
    "Affichez les 30 premières composantes principales sur une grille (sous forme d'images). Ces composantes sont des vecteurs propres (*eigenvectors* en anglais), d'où le terme *eigenfaces* pour ce cas particulier. \n",
    "\n",
    "Commentez ces images."
   ]
  },
  {
   "cell_type": "code",
   "execution_count": null,
   "metadata": {},
   "outputs": [],
   "source": []
  },
  {
   "cell_type": "markdown",
   "metadata": {},
   "source": [
    "Pour quelques images du jeu de données, affichez l'image originale et l'image reconstruite grâce à l'ACP à 150 composantes. Que pouvez-vous dire que la qualité de la reconstruction ?"
   ]
  },
  {
   "cell_type": "code",
   "execution_count": null,
   "metadata": {},
   "outputs": [],
   "source": [
    "\n"
   ]
  },
  {
   "cell_type": "code",
   "execution_count": null,
   "metadata": {},
   "outputs": [],
   "source": []
  }
 ],
 "metadata": {
  "anaconda-cloud": {},
  "kernelspec": {
   "display_name": "Python 3",
   "language": "python",
   "name": "python3"
  },
  "language_info": {
   "codemirror_mode": {
    "name": "ipython",
    "version": 3
   },
   "file_extension": ".py",
   "mimetype": "text/x-python",
   "name": "python",
   "nbconvert_exporter": "python",
   "pygments_lexer": "ipython3",
   "version": "3.8.5"
  }
 },
 "nbformat": 4,
 "nbformat_minor": 4
}
